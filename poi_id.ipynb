{
 "cells": [
  {
   "cell_type": "code",
   "execution_count": 1,
   "metadata": {},
   "outputs": [],
   "source": [
    "import sys\n",
    "import pickle\n",
    "sys.path.append(\"tools/\")\n",
    "\n",
    "from feature_format import featureFormat, targetFeatureSplit\n",
    "from tester import dump_classifier_and_data\n",
    "\n",
    "import pandas as pd\n",
    "import re\n",
    "import operator\n",
    "from sklearn.naive_bayes import GaussianNB\n",
    "from sklearn.model_selection import train_test_split\n",
    "from sklearn.metrics import accuracy_score, precision_score, recall_score, f1_score"
   ]
  },
  {
   "cell_type": "markdown",
   "metadata": {},
   "source": [
    "## Introduction"
   ]
  },
  {
   "cell_type": "markdown",
   "metadata": {},
   "source": [
    "## Loading the Data"
   ]
  },
  {
   "cell_type": "code",
   "execution_count": 2,
   "metadata": {},
   "outputs": [],
   "source": [
    "# Load the dictionary containing the dataset\n",
    "with open(\"final_project_dataset.pkl\", \"rb\") as data_file:\n",
    "    data_dict = pickle.load(data_file)"
   ]
  },
  {
   "cell_type": "markdown",
   "metadata": {},
   "source": [
    "## Data Exploration"
   ]
  },
  {
   "cell_type": "code",
   "execution_count": 3,
   "metadata": {},
   "outputs": [],
   "source": [
    "# Store for future testing\n",
    "first_employee = 'ALLEN PHILLIP K'"
   ]
  },
  {
   "cell_type": "code",
   "execution_count": 4,
   "metadata": {},
   "outputs": [
    {
     "data": {
      "text/plain": [
       "21"
      ]
     },
     "execution_count": 4,
     "metadata": {},
     "output_type": "execute_result"
    }
   ],
   "source": [
    "len(data_dict[first_employee])"
   ]
  },
  {
   "cell_type": "code",
   "execution_count": 5,
   "metadata": {},
   "outputs": [
    {
     "data": {
      "text/plain": [
       "['salary',\n",
       " 'to_messages',\n",
       " 'deferral_payments',\n",
       " 'total_payments',\n",
       " 'loan_advances',\n",
       " 'bonus',\n",
       " 'email_address',\n",
       " 'restricted_stock_deferred',\n",
       " 'deferred_income',\n",
       " 'total_stock_value',\n",
       " 'expenses',\n",
       " 'from_poi_to_this_person',\n",
       " 'exercised_stock_options',\n",
       " 'from_messages',\n",
       " 'other',\n",
       " 'from_this_person_to_poi',\n",
       " 'poi',\n",
       " 'long_term_incentive',\n",
       " 'shared_receipt_with_poi',\n",
       " 'restricted_stock',\n",
       " 'director_fees']"
      ]
     },
     "execution_count": 5,
     "metadata": {},
     "output_type": "execute_result"
    }
   ],
   "source": [
    "list(data_dict[first_employee].keys())"
   ]
  },
  {
   "cell_type": "markdown",
   "metadata": {},
   "source": [
    "There are a total of 21 fields, 14 financial features, 6 features concerning email metadata, and the target field poi.\n",
    "\n",
    "**financial features**\n",
    "* bonus\n",
    "* deferral_payments\n",
    "* deferred_income\n",
    "* director_fees\n",
    "* exercised_stock_options\n",
    "* expenses\n",
    "* loan_advances\n",
    "* long_term_incentive\n",
    "* other\n",
    "* restricted_stock\n",
    "* restricted_stock_deferred\n",
    "* salary\n",
    "* total_payments\n",
    "* total_stock_value\n",
    "\n",
    "**email features**\n",
    "* email_address\n",
    "* from_messages\n",
    "* from_poi_to_this_person\n",
    "* from_this_person_to_poi\n",
    "* shared_receipt_with_poi\n",
    "* to_messages"
   ]
  },
  {
   "cell_type": "code",
   "execution_count": 6,
   "metadata": {},
   "outputs": [],
   "source": [
    "target = 'poi'\n",
    "\n",
    "email_features = ['email_address',\n",
    "                  'from_messages',\n",
    "                  'from_poi_to_this_person',\n",
    "                  'from_this_person_to_poi',\n",
    "                  'shared_receipt_with_poi',\n",
    "                  'to_messages']\n",
    "\n",
    "financial_features = ['bonus',\n",
    "                      'deferral_payments',\n",
    "                      'deferred_income',\n",
    "                      'director_fees',\n",
    "                      'exercised_stock_options',\n",
    "                      'expenses',\n",
    "                      'loan_advances',\n",
    "                      'long_term_incentive',\n",
    "                      'other',\n",
    "                      'restricted_stock',\n",
    "                      'restricted_stock_deferred',\n",
    "                      'salary',\n",
    "                      'total_payments',\n",
    "                      'total_stock_value']\n",
    "\n",
    "all_features = [target] + email_features + financial_features"
   ]
  },
  {
   "cell_type": "code",
   "execution_count": 7,
   "metadata": {},
   "outputs": [
    {
     "data": {
      "text/plain": [
       "146"
      ]
     },
     "execution_count": 7,
     "metadata": {},
     "output_type": "execute_result"
    }
   ],
   "source": [
    "# Number of records\n",
    "len(data_dict)"
   ]
  },
  {
   "cell_type": "code",
   "execution_count": 8,
   "metadata": {},
   "outputs": [
    {
     "data": {
      "text/plain": [
       "['METTS MARK',\n",
       " 'BAXTER JOHN C',\n",
       " 'ELLIOTT STEVEN',\n",
       " 'CORDES WILLIAM R',\n",
       " 'HANNON KEVIN P',\n",
       " 'MORDAUNT KRISTINA M',\n",
       " 'MEYER ROCKFORD G',\n",
       " 'MCMAHON JEFFREY',\n",
       " 'HAEDICKE MARK E',\n",
       " 'PIPER GREGORY F']"
      ]
     },
     "execution_count": 8,
     "metadata": {},
     "output_type": "execute_result"
    }
   ],
   "source": [
    "people = list(data_dict.keys())\n",
    "people[:10]"
   ]
  },
  {
   "cell_type": "code",
   "execution_count": 9,
   "metadata": {},
   "outputs": [
    {
     "data": {
      "text/plain": [
       "['WALLS JR ROBERT H',\n",
       " 'SULLIVAN-SHAKLOVITZ COLLEEN',\n",
       " 'BOWEN JR RAYMOND M',\n",
       " 'OVERDYKE JR JERE C',\n",
       " 'PEREIRA PAULO V. FERRAZ',\n",
       " 'BLAKE JR. NORMAN P',\n",
       " 'THE TRAVEL AGENCY IN THE PARK',\n",
       " 'TOTAL',\n",
       " 'WHITE JR THOMAS E',\n",
       " 'WINOKUR JR. HERBERT S',\n",
       " 'GARLAND C KEVIN',\n",
       " 'YEAGER F SCOTT',\n",
       " 'DERRICK JR. JAMES V',\n",
       " 'DONAHUE JR JEFFREY M',\n",
       " 'GLISAN JR BEN F']"
      ]
     },
     "execution_count": 9,
     "metadata": {},
     "output_type": "execute_result"
    }
   ],
   "source": [
    "# Appropriate formats for names\n",
    "name_fmt_1 = '\\w+ \\w+ \\w'\n",
    "name_fmt_2 = '\\w+ \\w+'\n",
    "\n",
    "# Print names that do not follow either of these formats\n",
    "[p for p in people if not (re.fullmatch(name_fmt_1, p) or re.fullmatch(name_fmt_2, p))]"
   ]
  },
  {
   "cell_type": "code",
   "execution_count": 10,
   "metadata": {},
   "outputs": [
    {
     "data": {
      "text/plain": [
       "['DERRICK JR JAMES V',\n",
       " 'DONAHUE JR JEFFREY M',\n",
       " 'GLISAN JR BEN F',\n",
       " 'WALLS JR ROBERT H',\n",
       " 'SULLIVAN-SHAKLOVITZ COLLEEN',\n",
       " 'BOWEN JR RAYMOND M',\n",
       " 'OVERDYKE JR JERE C',\n",
       " 'PEREIRA PAULO V FERRAZ',\n",
       " 'BLAKE JR NORMAN P',\n",
       " 'THE TRAVEL AGENCY IN THE PARK',\n",
       " 'TOTAL',\n",
       " 'WHITE JR THOMAS E',\n",
       " 'WINOKUR JR HERBERT S',\n",
       " 'GARLAND C KEVIN',\n",
       " 'YEAGER F SCOTT']"
      ]
     },
     "execution_count": 10,
     "metadata": {},
     "output_type": "execute_result"
    }
   ],
   "source": [
    "# Remove periods from names to make them consistent\n",
    "for key in data_dict.keys():\n",
    "    data_dict[key.replace('.', '')] = data_dict.pop(key)\n",
    "    \n",
    "[p for p in data_dict.keys() if not (re.fullmatch(name_fmt_1, p) or re.fullmatch(name_fmt_2, p))]"
   ]
  },
  {
   "cell_type": "markdown",
   "metadata": {},
   "source": [
    "Apart from the names with 'JR', additional middle names, a first initial, or a hyphenated last name, which are also acceptable, there are the records 'TOTAL' and 'THE TRAVEL AGENCY IN THE PARK'.  Obviously these records were included in the data set in error since they do not represent employees.  Inspection of the data confirms that 'TOTAL' is an aggregate row of all employees and was erroneously included in the data."
   ]
  },
  {
   "cell_type": "code",
   "execution_count": 52,
   "metadata": {},
   "outputs": [
    {
     "data": {
      "text/plain": [
       "18"
      ]
     },
     "execution_count": 52,
     "metadata": {},
     "output_type": "execute_result"
    }
   ],
   "source": [
    "# Number of pois in the data set\n",
    "pois = [person for person in data_dict.keys() if data_dict[person]['poi']]\n",
    "len(pois)"
   ]
  },
  {
   "cell_type": "markdown",
   "metadata": {},
   "source": [
    "There are only 18 positive instances in the data set which means that this model will have to deal with class imbalance. "
   ]
  },
  {
   "cell_type": "markdown",
   "metadata": {},
   "source": [
    "### Missing Values"
   ]
  },
  {
   "cell_type": "code",
   "execution_count": 11,
   "metadata": {},
   "outputs": [],
   "source": [
    "num_missing = {}\n",
    "for feat in all_features:\n",
    "    num_missing[feat] = len([person for person in data_dict.keys() if data_dict[person][feat] == 'NaN'])"
   ]
  },
  {
   "cell_type": "code",
   "execution_count": 12,
   "metadata": {},
   "outputs": [
    {
     "data": {
      "text/plain": [
       "{'bonus': 64,\n",
       " 'deferral_payments': 107,\n",
       " 'deferred_income': 97,\n",
       " 'director_fees': 129,\n",
       " 'email_address': 35,\n",
       " 'exercised_stock_options': 44,\n",
       " 'expenses': 51,\n",
       " 'from_messages': 60,\n",
       " 'from_poi_to_this_person': 60,\n",
       " 'from_this_person_to_poi': 60,\n",
       " 'loan_advances': 142,\n",
       " 'long_term_incentive': 80,\n",
       " 'other': 53,\n",
       " 'poi': 0,\n",
       " 'restricted_stock': 36,\n",
       " 'restricted_stock_deferred': 128,\n",
       " 'salary': 51,\n",
       " 'shared_receipt_with_poi': 60,\n",
       " 'to_messages': 60,\n",
       " 'total_payments': 21,\n",
       " 'total_stock_value': 20}"
      ]
     },
     "execution_count": 12,
     "metadata": {},
     "output_type": "execute_result"
    }
   ],
   "source": [
    "num_missing"
   ]
  },
  {
   "cell_type": "code",
   "execution_count": 16,
   "metadata": {},
   "outputs": [
    {
     "data": {
      "text/plain": [
       "[('WHALEY DAVID A', 18),\n",
       " ('GRAMM WENDY L', 18),\n",
       " ('WROBEL BRUCE', 18),\n",
       " ('THE TRAVEL AGENCY IN THE PARK', 18),\n",
       " ('WODRASKA JOHN', 17),\n",
       " ('CLINE KENNETH W', 17),\n",
       " ('WAKEHAM JOHN', 17),\n",
       " ('SCRIMSHAW MATTHEW', 17),\n",
       " ('SAVAGE FRANK', 17),\n",
       " ('GILLIS JOHN', 17)]"
      ]
     },
     "execution_count": 16,
     "metadata": {},
     "output_type": "execute_result"
    }
   ],
   "source": [
    "num_missing_by_person = {}\n",
    "for key in data_dict:\n",
    "    num_missing_by_person[key] = len([field for field in data_dict[key].keys() if data_dict[key][field] == 'NaN'])\n",
    "    \n",
    "num_missing_by_person_sorted = sorted(num_missing_by_person.items(), key=operator.itemgetter(1), reverse=True)\n",
    "num_missing_by_person_sorted[:10]"
   ]
  },
  {
   "cell_type": "markdown",
   "metadata": {},
   "source": [
    "'LOCKHART EUGENE E' has all fields missing except for poi, so he has been removed from the data set."
   ]
  },
  {
   "cell_type": "code",
   "execution_count": 14,
   "metadata": {},
   "outputs": [],
   "source": [
    "del data_dict['LOCKHART EUGENE E']"
   ]
  },
  {
   "cell_type": "code",
   "execution_count": null,
   "metadata": {},
   "outputs": [],
   "source": []
  },
  {
   "cell_type": "code",
   "execution_count": null,
   "metadata": {},
   "outputs": [],
   "source": [
    "# Feature selection\n",
    "features_list = ['poi','salary']"
   ]
  },
  {
   "cell_type": "code",
   "execution_count": null,
   "metadata": {},
   "outputs": [],
   "source": []
  },
  {
   "cell_type": "code",
   "execution_count": null,
   "metadata": {},
   "outputs": [],
   "source": []
  },
  {
   "cell_type": "code",
   "execution_count": null,
   "metadata": {},
   "outputs": [],
   "source": []
  },
  {
   "cell_type": "code",
   "execution_count": null,
   "metadata": {},
   "outputs": [],
   "source": []
  },
  {
   "cell_type": "code",
   "execution_count": null,
   "metadata": {},
   "outputs": [],
   "source": []
  },
  {
   "cell_type": "code",
   "execution_count": null,
   "metadata": {},
   "outputs": [],
   "source": [
    "# Load the data into a dataframe\n",
    "df = pd.DataFrame.from_dict(data_dict).T\n",
    "print(len(list(df.columns)))\n",
    "list(df.columns)"
   ]
  },
  {
   "cell_type": "code",
   "execution_count": null,
   "metadata": {},
   "outputs": [],
   "source": [
    "for feat in financial_features:\n",
    "    df[feat] = df[feat].astype('float')"
   ]
  },
  {
   "cell_type": "code",
   "execution_count": null,
   "metadata": {},
   "outputs": [],
   "source": [
    "people = list(df.index)\n",
    "people[:10]"
   ]
  },
  {
   "cell_type": "code",
   "execution_count": null,
   "metadata": {},
   "outputs": [],
   "source": [
    "# Remove periods from names to make them consistent\n",
    "df.index = df.index.map(lambda x: x.replace('.', ''))"
   ]
  },
  {
   "cell_type": "code",
   "execution_count": null,
   "metadata": {},
   "outputs": [],
   "source": [
    "# Since there are a lot of nulls in the data set, I checked if there are employees with no data\n",
    "def all_null(row):\n",
    "    if df.iloc[row].is_na().all():\n",
    "        print(row, 'YUP')\n",
    "    \n",
    "df.apply(all_null)"
   ]
  }
 ],
 "metadata": {
  "kernelspec": {
   "display_name": "Python 3",
   "language": "python",
   "name": "python3"
  },
  "language_info": {
   "codemirror_mode": {
    "name": "ipython",
    "version": 3
   },
   "file_extension": ".py",
   "mimetype": "text/x-python",
   "name": "python",
   "nbconvert_exporter": "python",
   "pygments_lexer": "ipython3",
   "version": "3.6.4"
  }
 },
 "nbformat": 4,
 "nbformat_minor": 2
}
